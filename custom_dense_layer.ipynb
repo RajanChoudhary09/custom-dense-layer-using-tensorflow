{
  "nbformat": 4,
  "nbformat_minor": 0,
  "metadata": {
    "colab": {
      "provenance": [],
      "gpuType": "T4",
      "authorship_tag": "ABX9TyPemL3kTAj6Oew0st6aFwEL",
      "include_colab_link": true
    },
    "kernelspec": {
      "name": "python3",
      "display_name": "Python 3"
    },
    "language_info": {
      "name": "python"
    },
    "accelerator": "GPU"
  },
  "cells": [
    {
      "cell_type": "markdown",
      "metadata": {
        "id": "view-in-github",
        "colab_type": "text"
      },
      "source": [
        "<a href=\"https://colab.research.google.com/github/RajanChoudhary09/custom-dense-layer-using-tensorflow/blob/main/custom_dense_layer.ipynb\" target=\"_parent\"><img src=\"https://colab.research.google.com/assets/colab-badge.svg\" alt=\"Open In Colab\"/></a>"
      ]
    },
    {
      "cell_type": "code",
      "execution_count": null,
      "metadata": {
        "colab": {
          "base_uri": "https://localhost:8080/"
        },
        "id": "p81z96kSknlx",
        "outputId": "63ec9d7b-1258-464f-be56-72f8973f488a"
      },
      "outputs": [
        {
          "output_type": "stream",
          "name": "stdout",
          "text": [
            "Output:\n",
            "tf.Tensor([[-0.02439313  0.12260984]], shape=(1, 2), dtype=float32)\n"
          ]
        }
      ],
      "source": [
        "import tensorflow as tf\n",
        "\n",
        "class MyDenseLayer(tf.keras.layers.Layer):\n",
        "  def __init__(self, input_dim, output_dim):\n",
        "    super(MyDenseLayer, self).__init__()\n",
        "\n",
        "    # Initialize weights and biases\n",
        "    self.W = self.add_weight((input_dim, output_dim), initializer = 'random_normal', trainable=True)\n",
        "    self.b = self.add_weight((1, output_dim), initializer='zeros', trainable=True)\n",
        "\n",
        "  def call(self, inputs):\n",
        "    return tf.matmul(inputs, self.W) + self.b\n",
        "\n",
        "\n",
        "dense = MyDenseLayer(3,2)\n",
        "\n",
        "x = tf.constant([[1.0, 2.0, 3.0]])\n",
        "\n",
        "output = dense(x)\n",
        "\n",
        "print(\"Output:\")\n",
        "print(output)"
      ]
    },
    {
      "cell_type": "code",
      "source": [],
      "metadata": {
        "id": "IV-S9TWznVJ3"
      },
      "execution_count": null,
      "outputs": []
    }
  ]
}